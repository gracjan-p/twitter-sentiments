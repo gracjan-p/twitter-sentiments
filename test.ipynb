{
 "cells": [
  {
   "cell_type": "code",
   "id": "initial_id",
   "metadata": {
    "collapsed": true,
    "ExecuteTime": {
     "end_time": "2024-11-19T23:13:11.137372Z",
     "start_time": "2024-11-19T23:13:11.132094Z"
    }
   },
   "source": [
    "import pandas as pd\n",
    "import numpy as np\n",
    "\n",
    "# Sample DataFrame with some missing values\n",
    "data = {\n",
    "    'A': [1, 3, 3, 4, 3],\n",
    "    'B': [np.nan, 3, 3, 4, 4],\n",
    "    'C': [1, 3, 3, 4, 5],\n",
    "    'D': [1, 3, 3, 4, 3]\n",
    "}\n",
    "\n",
    "df = pd.DataFrame(data, dtype=float)"
   ],
   "outputs": [],
   "execution_count": 56
  },
  {
   "metadata": {
    "ExecuteTime": {
     "end_time": "2024-11-19T23:13:11.755158Z",
     "start_time": "2024-11-19T23:13:11.748260Z"
    }
   },
   "cell_type": "code",
   "source": [
    "df.duplicated()\n",
    "# df"
   ],
   "id": "555c80d9380af875",
   "outputs": [
    {
     "data": {
      "text/plain": [
       "0    False\n",
       "1    False\n",
       "2     True\n",
       "3    False\n",
       "4    False\n",
       "dtype: bool"
      ]
     },
     "execution_count": 57,
     "metadata": {},
     "output_type": "execute_result"
    }
   ],
   "execution_count": 57
  }
 ],
 "metadata": {
  "kernelspec": {
   "display_name": "Python 3",
   "language": "python",
   "name": "python3"
  },
  "language_info": {
   "codemirror_mode": {
    "name": "ipython",
    "version": 2
   },
   "file_extension": ".py",
   "mimetype": "text/x-python",
   "name": "python",
   "nbconvert_exporter": "python",
   "pygments_lexer": "ipython2",
   "version": "2.7.6"
  }
 },
 "nbformat": 4,
 "nbformat_minor": 5
}
